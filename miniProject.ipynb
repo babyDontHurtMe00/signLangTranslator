{
 "cells": [
  {
   "cell_type": "code",
   "execution_count": 2,
   "id": "adbdd411-c5c5-43df-a9e9-4193e461b012",
   "metadata": {},
   "outputs": [],
   "source": [
    "# import mediapipe as mp\n",
    "# import cv2\n",
    "# import time\n",
    "# import csvLibrary as cl\n",
    "# # cl.info()\n"
   ]
  },
  {
   "cell_type": "markdown",
   "id": "7324eaea-9da7-4605-a157-b884d3b0c4cd",
   "metadata": {},
   "source": [
    "### Video Input"
   ]
  },
  {
   "cell_type": "code",
   "execution_count": 3,
   "id": "45675331-0213-4649-b772-6de149e9651f",
   "metadata": {},
   "outputs": [],
   "source": [
    "# cap = cv2.VideoCapture(0)"
   ]
  },
  {
   "cell_type": "markdown",
   "id": "e9f83e18-b659-480d-858b-16e855987ecb",
   "metadata": {},
   "source": [
    "#### Initialising Variables\n"
   ]
  },
  {
   "cell_type": "code",
   "execution_count": 4,
   "id": "d91a9111-18a3-4952-953b-781a4daa52b2",
   "metadata": {},
   "outputs": [],
   "source": [
    "\n",
    "# mpHands = mp.solutions.hands\n",
    "# hands = mpHands.Hands()\n",
    "# mpDraw = mp.solutions.drawing_utils\n",
    "\n",
    "# pTime = 0\n",
    "# cTime = 0\n",
    "# timerTime = time.time()\n",
    "# output = []\n",
    "# headers=[]\n",
    "# partOutput=[]\n"
   ]
  },
  {
   "cell_type": "markdown",
   "id": "d253fb3f-385b-4fc1-a5d9-f3c9e3600752",
   "metadata": {},
   "source": [
    "### Run camera for _ seconds"
   ]
  },
  {
   "cell_type": "code",
   "execution_count": 5,
   "id": "98541b88-c384-43e0-8439-e207fecc24fd",
   "metadata": {},
   "outputs": [
    {
     "name": "stderr",
     "output_type": "stream",
     "text": [
      "D:\\Projects 2\\mediaPipeModel\\modelVenv\\Lib\\site-packages\\google\\protobuf\\symbol_database.py:55: UserWarning: SymbolDatabase.GetPrototype() is deprecated. Please use message_factory.GetMessageClass() instead. SymbolDatabase.GetPrototype() will be removed soon.\n",
      "  warnings.warn('SymbolDatabase.GetPrototype() is deprecated. Please '\n"
     ]
    },
    {
     "ename": "error",
     "evalue": "OpenCV(4.10.0) D:\\a\\opencv-python\\opencv-python\\opencv\\modules\\highgui\\src\\window_w32.cpp:1261: error: (-27:Null pointer) NULL window: 'I2' in function 'cvDestroyWindow'\n",
     "output_type": "error",
     "traceback": [
      "\u001b[1;31m---------------------------------------------------------------------------\u001b[0m",
      "\u001b[1;31merror\u001b[0m                                     Traceback (most recent call last)",
      "Cell \u001b[1;32mIn[5], line 64\u001b[0m\n\u001b[0;32m     62\u001b[0m     cv2\u001b[38;5;241m.\u001b[39mwaitKey(\u001b[38;5;241m1\u001b[39m)\n\u001b[0;32m     63\u001b[0m     \u001b[38;5;66;03m# time.sleep(2)\u001b[39;00m\n\u001b[1;32m---> 64\u001b[0m \u001b[43mcv2\u001b[49m\u001b[38;5;241;43m.\u001b[39;49m\u001b[43mdestroyWindow\u001b[49m\u001b[43m(\u001b[49m\u001b[38;5;124;43m\"\u001b[39;49m\u001b[38;5;124;43mI2\u001b[39;49m\u001b[38;5;124;43m\"\u001b[39;49m\u001b[43m)\u001b[49m \n",
      "\u001b[1;31merror\u001b[0m: OpenCV(4.10.0) D:\\a\\opencv-python\\opencv-python\\opencv\\modules\\highgui\\src\\window_w32.cpp:1261: error: (-27:Null pointer) NULL window: 'I2' in function 'cvDestroyWindow'\n"
     ]
    }
   ],
   "source": [
    "# # Run for 05 seconds\n",
    "# while time.time()<(timerTime+5):\n",
    "# # while True:\n",
    "#     success, img= cap.read()\n",
    "#     img=cv2.flip(img,1)\n",
    "#     # cv2.imshow(\"showing live feed\",success)\n",
    "#     imgRGB = cv2.cvtColor(img, cv2.COLOR_BGR2RGB)\n",
    "#     results = hands.process(imgRGB)\n",
    "    \n",
    "#     halfList1 = []\n",
    "#     halfList2 = []\n",
    "#     qtrList = []\n",
    "\n",
    "#     if (results.multi_hand_landmarks):\n",
    "#         # print(\"next frame\") \n",
    "\n",
    "#         #interesting detail:\n",
    "#         # print(results.multi_handedness[1]) gives left, but its index property = 0\n",
    "#         # print(results.multi_handedness[0]) gives right, but its index property = 1\n",
    "\n",
    "#         # print(results.multi_handedness)\n",
    "#         for handSide in results.multi_handedness:\n",
    "#             # print(handSide.classification[0].index)\n",
    "#             halfList1.append(handSide.classification[0].index)\n",
    "\n",
    "\n",
    "#         for handLms in results.multi_hand_landmarks:\n",
    "#             #print(handLms.landmark)\n",
    "#             qtrList=[]\n",
    "#             #this area has both hands seperately\n",
    "#             for id,lm in enumerate(handLms.landmark):\n",
    "#                 mpDraw.draw_landmarks(img, handLms, mpHands.HAND_CONNECTIONS)\n",
    "#                 #print(id,lm) #this gives position (as a fraction of img) for each pt\n",
    "#                 height,width,channel = img.shape #finding img parameters to multiply to lm to get coordinate \n",
    "#                 cx,cy = int(lm.x*width), int(lm.y*height)\n",
    "#                 qtrList.append([id,cx,cy])\n",
    "#                 # if id==4 or id==3:\n",
    "#                     # print(id, cx,cy)\n",
    "#                     # qtrList.append([id,cx,cy])\n",
    "            \n",
    "            \n",
    "#             halfList2.append(qtrList)\n",
    "#         #this area is after a frame\n",
    "#         # print(halfList1)\n",
    "#         # print(halfList2)\n",
    "#         # print(\"\\n\\n\\n\")\n",
    "    \n",
    "\n",
    "#         partOutput.append(dict(zip(halfList1,halfList2)))   \n",
    "#     output.append(partOutput)\n",
    "\n",
    "\n",
    "\n",
    "#     #displayingFP\n",
    "#     cTime = time.time()\n",
    "#     fps = 1/(cTime-pTime)\n",
    "#     pTime= cTime\n",
    "#     cv2.putText(img,str(int(fps)),(10,70),cv2.FONT_HERSHEY_COMPLEX,2,(255,0,255),3)\n",
    "#     cv2.putText(img,str(int(5-(time.time()-timerTime))),(540,70),cv2.FONT_HERSHEY_COMPLEX,2,(255,0,255),3)\n",
    "\n",
    "#     cv2.imshow(\"Image\",img)\n",
    "#     cv2.waitKey(1)\n",
    "#     # time.sleep(2)\n",
    "#     cv2.destroyWindow(\"I2\") "
   ]
  },
  {
   "cell_type": "code",
   "execution_count": 6,
   "id": "1eb6c6b2-8dd8-4165-8a33-6a717000eea2",
   "metadata": {},
   "outputs": [
    {
     "name": "stdout",
     "output_type": "stream",
     "text": [
      "HEADERS: [Decimal('0.00'), Decimal('0.01'), Decimal('0.02'), Decimal('0.03'), Decimal('0.04'), Decimal('0.05'), Decimal('0.06'), Decimal('0.07'), Decimal('0.08'), Decimal('0.09'), Decimal('0.10'), Decimal('0.11'), Decimal('0.12'), Decimal('0.13'), Decimal('0.14'), Decimal('0.15'), Decimal('0.16'), Decimal('0.17'), Decimal('0.18'), Decimal('0.19'), Decimal('0.20'), Decimal('1.00'), Decimal('1.01'), Decimal('1.02'), Decimal('1.03'), Decimal('1.04'), Decimal('1.05'), Decimal('1.06'), Decimal('1.07'), Decimal('1.08'), Decimal('1.09'), Decimal('1.10'), Decimal('1.11'), Decimal('1.12'), Decimal('1.13'), Decimal('1.14'), Decimal('1.15'), Decimal('1.16'), Decimal('1.17'), Decimal('1.18'), Decimal('1.19'), Decimal('1.20')]\n",
      "\n",
      "\n",
      "Frames Captured = 0\n"
     ]
    }
   ],
   "source": [
    "# #creating headers list for csv\n",
    "# from decimal import Decimal\n",
    "# for i in range(2):\n",
    "#     for j in range(21):\n",
    "#         # print(j)\n",
    "#         headers.append(round(i+Decimal(j/100),2))\n",
    "\n",
    "\n",
    "# #removing empty lists from output\n",
    "# i=0\n",
    "# while (i<len(output)):\n",
    "#     if output[i] != []:\n",
    "#         # print(\"\\n\\nOUTPUT: \",output[i])\n",
    "#         i+=1\n",
    "#     else:\n",
    "#         output.pop(i)\n",
    "#         # print(str(i)+\"/\"+str(len(output)))\n",
    "\n",
    "# finalOutput = []\n",
    "# #converting output to the perfect dictionary wali list\n",
    "# for i in range(len(partOutput)):\n",
    "#     # print(output[i].keys())\n",
    "#     tempDict={}\n",
    "#     for j in partOutput[i].keys():\n",
    "#         for k in partOutput[i][j]:\n",
    "#             # print(round(j+Decimal(k[0]/100),2),k[1:])\n",
    "#             tempDict[round(j+Decimal(k[0]/100),2)] = k[1:]\n",
    "\n",
    "#     #creating dict of one frame and appending it here            \n",
    "#     finalOutput.append(tempDict)\n",
    "\n",
    "\n",
    "# #printing headers, output        \n",
    "# print(\"HEADERS:\",headers)\n",
    "# # print(\"OUTPUT:\",finalOutput)\n",
    "# print(\"\\n\\nFrames Captured =\",len(finalOutput))\n",
    "# # left is 0, right is 1\n",
    "\n",
    "# cl.dwrite(headers,finalOutput,\"./currentOutput.csv\")"
   ]
  },
  {
   "cell_type": "markdown",
   "id": "1dffbc47-d6db-4529-8619-472e24cb6fbe",
   "metadata": {},
   "source": [
    "### Import Model"
   ]
  },
  {
   "cell_type": "code",
   "execution_count": 1,
   "id": "56ff64c9-08aa-4566-a017-b064ebe6f9b6",
   "metadata": {},
   "outputs": [
    {
     "name": "stdout",
     "output_type": "stream",
     "text": [
      "loading saved artifacts...start\n",
      "loading saved artifacts...done\n"
     ]
    }
   ],
   "source": [
    "import joblib\n",
    "import json\n",
    "\n",
    "__class_name_to_number = {}\n",
    "__class_number_to_name = {}\n",
    "\n",
    "__model = None\n",
    "\n",
    "\n",
    "def class_number_to_name(class_num):\n",
    "    return __class_number_to_name[class_num]\n",
    "\n",
    "def load_saved_artifacts():\n",
    "    print(\"loading saved artifacts...start\")\n",
    "    global __class_name_to_number\n",
    "    global __class_number_to_name\n",
    "\n",
    "    with open(\"./artifacts/class_dictionary.json\", \"r\") as f:\n",
    "        __class_name_to_number = json.load(f)\n",
    "        __class_number_to_name = {v:k for k,v in __class_name_to_number.items()}\n",
    "\n",
    "    global __model\n",
    "    if __model is None:\n",
    "        with open('./artifacts/saved_model.pkl', 'rb') as f:\n",
    "            __model = joblib.load(f)\n",
    "    print(\"loading saved artifacts...done\")\n",
    "\n",
    "load_saved_artifacts()"
   ]
  },
  {
   "cell_type": "code",
   "execution_count": null,
   "id": "6a1b4460-8d21-49bc-b6f0-5fba8d06a77a",
   "metadata": {},
   "outputs": [],
   "source": []
  },
  {
   "cell_type": "markdown",
   "id": "3ca15242-9407-4e5c-b2ae-1d4f3bd29941",
   "metadata": {},
   "source": [
    "### Read current video array from csv and generate real time result using MODEL"
   ]
  },
  {
   "cell_type": "code",
   "execution_count": 35,
   "id": "206fd73d-a20a-44af-8e6e-4993f270e7fd",
   "metadata": {},
   "outputs": [],
   "source": [
    "# THE LINE TO GENERATE OUPUT\n",
    "#result=class_number_to_name(__model.predict(final)[0])\n",
    "# here final means each array [0 1 2 122 0 301...] inside X\n",
    "\n",
    "import numpy as np\n",
    "import csvLibrary as cl\n",
    "X=[]\n",
    "y=[]\n",
    "\n",
    "      \n",
    "path = \"./currentOutput.csv\"\n",
    "# print(path[15])\n",
    "csvData = cl.dread(path)\n",
    "\n",
    "for rowEntry in csvData:\n",
    "    # print(rowEntry)\n",
    "    tempRow = []\n",
    "    for handPoint, coords in rowEntry.items():\n",
    "        if coords != '':\n",
    "            coords = list(coords[1:-1].split(\",\"))\n",
    "            # print(float(handPoint), int(coords[0]),int(coords[1]))\n",
    "            tempRow.extend([float(handPoint), int(coords[0]),int(coords[1])])\n",
    "        else:\n",
    "            tempRow.extend([float(handPoint),-600,-600])\n",
    "    X.append(tempRow)\n",
    "    final = np.array(tempRow).reshape(1,126) #1 row and 3*42 entries\n",
    "# tempRow\n",
    "# final\n",
    "    y.append(__model.predict(final)[0])\n",
    "\n",
    "# print(\"X[0]: \",X[0])\n",
    "# print(\"\\n\\nY: \",y,len(y))\n"
   ]
  },
  {
   "cell_type": "code",
   "execution_count": 44,
   "id": "83634227-cb93-4fc0-bb42-3de4fccb1a24",
   "metadata": {},
   "outputs": [
    {
     "name": "stdout",
     "output_type": "stream",
     "text": [
      "['D']\n"
     ]
    }
   ],
   "source": [
    "# output the letter with most predictions\n",
    "count = {}\n",
    "for i in y:\n",
    "    count[i]=y.count(i)\n",
    "print([key for key in count if all(count[temp] <= count[key] for temp in count)])\n"
   ]
  },
  {
   "cell_type": "code",
   "execution_count": null,
   "id": "23abb956-680d-4738-9292-1d0549c65c62",
   "metadata": {},
   "outputs": [],
   "source": []
  }
 ],
 "metadata": {
  "kernelspec": {
   "display_name": "Python 3 (ipykernel)",
   "language": "python",
   "name": "python3"
  },
  "language_info": {
   "codemirror_mode": {
    "name": "ipython",
    "version": 3
   },
   "file_extension": ".py",
   "mimetype": "text/x-python",
   "name": "python",
   "nbconvert_exporter": "python",
   "pygments_lexer": "ipython3",
   "version": "3.12.3"
  }
 },
 "nbformat": 4,
 "nbformat_minor": 5
}
