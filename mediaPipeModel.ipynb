{
 "cells": [
  {
   "cell_type": "code",
   "execution_count": 2,
   "id": "9d9a7ef7-ab3c-456b-b9cc-51f935a93930",
   "metadata": {},
   "outputs": [],
   "source": [
    "import numpy as np\n",
    "import cv2 #opencv\n",
    "import matplotlib\n",
    "from matplotlib import pyplot as plt\n",
    "%matplotlib inline"
   ]
  },
  {
   "cell_type": "markdown",
   "id": "d87e6d18-458e-4993-9438-bce10517aa17",
   "metadata": {},
   "source": [
    "## Setting Training Data"
   ]
  },
  {
   "cell_type": "code",
   "execution_count": 3,
   "id": "9655d27d-cb27-46fa-9561-43b536b4fb60",
   "metadata": {},
   "outputs": [
    {
     "data": {
      "text/plain": [
       "['./trainingData\\\\A.csv',\n",
       " './trainingData\\\\B.csv',\n",
       " './trainingData\\\\C.csv',\n",
       " './trainingData\\\\D.csv']"
      ]
     },
     "execution_count": 3,
     "metadata": {},
     "output_type": "execute_result"
    }
   ],
   "source": [
    "#storing paths to all csv files\n",
    "import os\n",
    "csv_name_list=[]\n",
    "\n",
    "for entry in os.scandir(\"./trainingData\"):\n",
    "    csv_name_list.append(entry.path)\n",
    "csv_name_list"
   ]
  },
  {
   "cell_type": "code",
   "execution_count": 4,
   "id": "37a96c39-52e2-468b-886a-db112d990f22",
   "metadata": {},
   "outputs": [
    {
     "data": {
      "text/plain": [
       "{'0': 0,\n",
       " '1': 1,\n",
       " '2': 2,\n",
       " '3': 3,\n",
       " '4': 4,\n",
       " '5': 5,\n",
       " '6': 6,\n",
       " '7': 7,\n",
       " '8': 8,\n",
       " '9': 9,\n",
       " 'A': 65,\n",
       " 'B': 66,\n",
       " 'C': 67,\n",
       " 'D': 68,\n",
       " 'E': 69,\n",
       " 'F': 70,\n",
       " 'G': 71,\n",
       " 'H': 72,\n",
       " 'I': 73,\n",
       " 'J': 74,\n",
       " 'K': 75,\n",
       " 'L': 76,\n",
       " 'M': 77,\n",
       " 'N': 78,\n",
       " 'O': 79,\n",
       " 'P': 80,\n",
       " 'Q': 81,\n",
       " 'R': 82,\n",
       " 'S': 83,\n",
       " 'T': 84,\n",
       " 'U': 85,\n",
       " 'V': 86,\n",
       " 'W': 87,\n",
       " 'X': 88,\n",
       " 'Y': 89,\n",
       " 'Z': 90}"
      ]
     },
     "execution_count": 4,
     "metadata": {},
     "output_type": "execute_result"
    }
   ],
   "source": [
    "#giving nos. to each letter/no.\n",
    "\n",
    "class_dict = {}\n",
    "count = 0\n",
    "for i in range(10):\n",
    "    class_dict[str(i)]=i\n",
    "    \n",
    "for i in range(65,91):\n",
    "    class_dict[chr(i)] = i\n",
    "class_dict"
   ]
  },
  {
   "cell_type": "markdown",
   "id": "aed2e99c-03aa-4ddc-8a5e-47c293b8d27e",
   "metadata": {},
   "source": [
    "## Stacking different form of img, and creating X&Y"
   ]
  },
  {
   "cell_type": "code",
   "execution_count": 7,
   "id": "0d33d221-6070-45c2-8c92-bab455e175cb",
   "metadata": {},
   "outputs": [],
   "source": [
    "\n",
    "import csvLibrary as cl\n",
    "X=[]\n",
    "y=[]\n",
    "\n",
    "for file in csv_name_list:        \n",
    "    path = file\n",
    "    # print(path[15])\n",
    "    csvData = cl.dread(path)\n",
    "\n",
    "    for rowEntry in csvData:\n",
    "        # print(rowEntry)\n",
    "        tempRow = []\n",
    "        for handPoint, coords in rowEntry.items():\n",
    "            if coords != '':\n",
    "                coords = list(coords[1:-1].split(\",\"))\n",
    "                # print(float(handPoint), int(coords[0]),int(coords[1]))\n",
    "                tempRow.extend([float(handPoint), int(coords[0]),int(coords[1])])\n",
    "            else:\n",
    "                tempRow.extend([float(handPoint),-600,-600])\n",
    "        X.append(tempRow)\n",
    "        y.append(path[15])\n",
    "# print(X)\n",
    "# print(y,len(y))"
   ]
  },
  {
   "cell_type": "markdown",
   "id": "ed4e6de7-93a6-4137-9ccc-a069d42491bd",
   "metadata": {},
   "source": [
    "## Time to train our model"
   ]
  },
  {
   "cell_type": "code",
   "execution_count": 8,
   "id": "aa5b2728-1980-4160-8ab9-3c500b37458e",
   "metadata": {},
   "outputs": [],
   "source": [
    "from sklearn.svm import SVC\n",
    "from sklearn.preprocessing import StandardScaler\n",
    "from sklearn.model_selection import train_test_split\n",
    "from sklearn.pipeline import Pipeline\n",
    "from sklearn.metrics import classification_report\n",
    "import pandas as pd"
   ]
  },
  {
   "cell_type": "code",
   "execution_count": 10,
   "id": "201a83d3-cebc-48de-8563-1efe53c68c9c",
   "metadata": {},
   "outputs": [
    {
     "data": {
      "text/plain": [
       "0.5769230769230769"
      ]
     },
     "execution_count": 10,
     "metadata": {},
     "output_type": "execute_result"
    }
   ],
   "source": [
    "from sklearn import svm\n",
    "from sklearn.ensemble import RandomForestClassifier\n",
    "from sklearn.linear_model import LogisticRegression\n",
    "from sklearn.pipeline import make_pipeline\n",
    "from sklearn.model_selection import GridSearchCV\n",
    "\n",
    "\n",
    "X_train, X_test, y_train, y_test = train_test_split(X, y, random_state=0)\n",
    "\n",
    "# pipe = Pipeline([('scaler', StandardScaler()), ('svc', SVC(kernel = 'rbf', C = 10))])\n",
    "# pipe.fit(X_train, y_train)\n",
    "# pipe.score(X_test, y_test)\n",
    "\n",
    "pipe = make_pipeline(StandardScaler(), svm.SVC(gamma='auto',probability=False))\n",
    "pipe.fit(X_train, y_train)\n",
    "pipe.score(X_test, y_test)"
   ]
  },
  {
   "cell_type": "code",
   "execution_count": 12,
   "id": "6de68acd-bb2b-4809-9b1b-4b5d0c721f2f",
   "metadata": {},
   "outputs": [
    {
     "name": "stdout",
     "output_type": "stream",
     "text": [
      "              precision    recall  f1-score   support\n",
      "\n",
      "           A       0.50      0.15      0.24        13\n",
      "           B       0.27      0.23      0.25        13\n",
      "           C       0.94      1.00      0.97        17\n",
      "           D       0.42      0.89      0.57         9\n",
      "\n",
      "    accuracy                           0.58        52\n",
      "   macro avg       0.53      0.57      0.51        52\n",
      "weighted avg       0.57      0.58      0.54        52\n",
      "\n"
     ]
    }
   ],
   "source": [
    "print(classification_report(y_test, pipe.predict(X_test),zero_division=np.nan))"
   ]
  },
  {
   "cell_type": "markdown",
   "id": "a83fe976-be1a-49b3-9a07-51935f481eb4",
   "metadata": {},
   "source": [
    "## Save Model & Class Dictionary"
   ]
  },
  {
   "cell_type": "code",
   "execution_count": 15,
   "id": "52113ac7-3920-4a12-a071-f7b2368b83bf",
   "metadata": {},
   "outputs": [
    {
     "name": "stdout",
     "output_type": "stream",
     "text": [
      "Requirement already satisfied: joblib in d:\\projects 2\\mediapipemodel\\modelvenv\\lib\\site-packages (1.4.2)\n"
     ]
    },
    {
     "name": "stderr",
     "output_type": "stream",
     "text": [
      "\n",
      "[notice] A new release of pip is available: 24.0 -> 24.1.2\n",
      "[notice] To update, run: python.exe -m pip install --upgrade pip\n"
     ]
    },
    {
     "data": {
      "text/plain": [
       "['saved_model.pkl']"
      ]
     },
     "execution_count": 15,
     "metadata": {},
     "output_type": "execute_result"
    }
   ],
   "source": [
    "# !pip install joblib\n",
    "import joblib \n",
    "# Save the model as a pickle in a file \n",
    "joblib.dump(pipe, './artifacts/saved_model.pkl') "
   ]
  },
  {
   "cell_type": "code",
   "execution_count": 14,
   "id": "6c64c607-8ff1-4ccc-be34-18f28d91319c",
   "metadata": {},
   "outputs": [],
   "source": [
    "import json\n",
    "with open(\"./artifacts/class_dictionary.json\",\"w\") as f:\n",
    "    f.write(json.dumps(class_dict))"
   ]
  },
  {
   "cell_type": "code",
   "execution_count": null,
   "id": "e1258a26-92d3-4fc3-8a4a-0bbc80c70b34",
   "metadata": {},
   "outputs": [],
   "source": []
  }
 ],
 "metadata": {
  "kernelspec": {
   "display_name": "Python 3 (ipykernel)",
   "language": "python",
   "name": "python3"
  },
  "language_info": {
   "codemirror_mode": {
    "name": "ipython",
    "version": 3
   },
   "file_extension": ".py",
   "mimetype": "text/x-python",
   "name": "python",
   "nbconvert_exporter": "python",
   "pygments_lexer": "ipython3",
   "version": "3.12.3"
  }
 },
 "nbformat": 4,
 "nbformat_minor": 5
}
