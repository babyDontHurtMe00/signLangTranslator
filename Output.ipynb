{
 "cells": [
  {
   "cell_type": "code",
   "execution_count": 1,
   "id": "6601fbdf-5b4e-4692-b3a2-e3295be91841",
   "metadata": {},
   "outputs": [],
   "source": [
    "import joblib\n",
    "import json\n",
    "import numpy as np\n",
    "import base64\n",
    "import cv2\n",
    "from matplotlib import pyplot as plt"
   ]
  },
  {
   "cell_type": "code",
   "execution_count": 2,
   "id": "4999fffa-1353-4b6b-b16f-6802423b342f",
   "metadata": {},
   "outputs": [],
   "source": [
    "def bgremove1(myimage):\n",
    " \n",
    "    # Blur to image to reduce noise\n",
    "    myimage = cv2.GaussianBlur(myimage,(5,5), 0)\n",
    " \n",
    "    # We bin the pixels. Result will be a value 1..5\n",
    "    bins=np.array([0,51,102,153,204,255])\n",
    "    myimage[:,:,:] = np.digitize(myimage[:,:,:],bins,right=True)*51\n",
    " \n",
    "    # Create single channel greyscale for thresholding\n",
    "    myimage_grey = cv2.cvtColor(myimage, cv2.COLOR_BGR2GRAY)\n",
    " \n",
    "    # Perform Otsu thresholding and extract the background.\n",
    "    # We use Binary Threshold as we want to create an all white background\n",
    "    ret,background = cv2.threshold(myimage_grey,0,255,cv2.THRESH_BINARY+cv2.THRESH_OTSU)\n",
    " \n",
    "    # Convert black and white back into 3 channel greyscale\n",
    "    background = cv2.cvtColor(background, cv2.COLOR_GRAY2BGR)\n",
    " \n",
    "    # Perform Otsu thresholding and extract the foreground.\n",
    "    # We use TOZERO_INV as we want to keep some details of the foregorund\n",
    "    ret,foreground = cv2.threshold(myimage_grey,0,255,cv2.THRESH_TOZERO_INV+cv2.THRESH_OTSU)  #Currently foreground is only a mask\n",
    "    foreground = cv2.bitwise_and(myimage,myimage, mask=foreground)  # Update foreground with bitwise_and to extract real foreground\n",
    " \n",
    "    # Combine the background and foreground to obtain our final image\n",
    "    finalimage = background\n",
    "    return finalimage\n",
    "    \n",
    "import pywt\n",
    "\n",
    "def w2d(img, mode='haar', level=1):\n",
    "    \n",
    "    # imArray = bgremove1(img)\n",
    "    imArray = img\n",
    "    #Datatype conversions\n",
    "    #convert to grayscale\n",
    "    imArray = cv2.cvtColor( imArray,cv2.COLOR_RGB2GRAY )\n",
    "    #convert to float\n",
    "    imArray =  np.float32(imArray)   \n",
    "    imArray /= 255;\n",
    "    # compute coefficients \n",
    "    coeffs=pywt.wavedec2(imArray, mode, level=level)\n",
    "\n",
    "    #Process Coefficients\n",
    "    coeffs_H=list(coeffs)  \n",
    "    coeffs_H[0] *= 0;  \n",
    "\n",
    "    # reconstruction\n",
    "    imArray_H=pywt.waverec2(coeffs_H, mode);\n",
    "    imArray_H *= 255;\n",
    "    imArray_H =  np.uint8(imArray_H)\n",
    "\n",
    "    return imArray_H"
   ]
  },
  {
   "cell_type": "code",
   "execution_count": 3,
   "id": "4b4b48aa-c842-419c-9198-1e3194b62cb4",
   "metadata": {},
   "outputs": [],
   "source": [
    "__class_name_to_number = {}\n",
    "__class_number_to_name = {}\n",
    "\n",
    "__model = None\n"
   ]
  },
  {
   "cell_type": "code",
   "execution_count": 4,
   "id": "9675e6aa-d6f3-4c00-b3fa-9f32515d8bcb",
   "metadata": {},
   "outputs": [
    {
     "name": "stdout",
     "output_type": "stream",
     "text": [
      "loading saved artifacts...start\n",
      "loading saved artifacts...done\n"
     ]
    }
   ],
   "source": [
    "def class_number_to_name(class_num):\n",
    "    return __class_number_to_name[class_num]\n",
    "\n",
    "def load_saved_artifacts():\n",
    "    print(\"loading saved artifacts...start\")\n",
    "    global __class_name_to_number\n",
    "    global __class_number_to_name\n",
    "\n",
    "    with open(\"./artifacts/class_dictionary.json\", \"r\") as f:\n",
    "        __class_name_to_number = json.load(f)\n",
    "        __class_number_to_name = {v:k for k,v in __class_name_to_number.items()}\n",
    "\n",
    "    global __model\n",
    "    if __model is None:\n",
    "        with open('./artifacts/saved_model.pkl', 'rb') as f:\n",
    "            __model = joblib.load(f)\n",
    "    print(\"loading saved artifacts...done\")\n",
    "\n",
    "# def get_cv2_image_from_base64_string(b64str):\n",
    "#     '''\n",
    "#     credit: https://stackoverflow.com/questions/33754935/read-a-base-64-encoded-image-from-memory-using-opencv-python-library\n",
    "#     :param uri:\n",
    "#     :return:\n",
    "#     '''\n",
    "#     encoded_data = b64str.split(',')[1]\n",
    "#     nparr = np.frombuffer(base64.b64decode(encoded_data), np.uint8)\n",
    "#     img = cv2.imdecode(nparr, cv2.IMREAD_COLOR)\n",
    "#     return img\n",
    "load_saved_artifacts()"
   ]
  },
  {
   "cell_type": "code",
   "execution_count": 5,
   "id": "6e65e47e-9f65-4a39-a102-841b8ce61cf5",
   "metadata": {},
   "outputs": [],
   "source": [
    "def classify_image(image_base64_data=None, file_path=None):\n",
    "\n",
    "    # imgs = get_cropped_image_if_2_eyes(file_path, image_base64_data)\n",
    "    img = cv2.imread(file_path)\n",
    "    \n",
    "    result = []\n",
    "    \n",
    "    scalled_raw_img = cv2.resize(img, (32, 32))\n",
    "    img_har = w2d(img, 'db10',2)\n",
    "    \n",
    "    scalled_img_har = cv2.resize(img_har, (32, 32))\n",
    "    plt.imshow(scalled_img_har)\n",
    "    combined_img = np.vstack((scalled_raw_img.reshape(32 * 32 * 3, 1), scalled_img_har.reshape(32 * 32, 1)))\n",
    "   \n",
    "    len_image_array = 32*32*3 + 32*32\n",
    "\n",
    "    final = combined_img.reshape(1,len_image_array).astype(float)\n",
    "    result=class_number_to_name(__model.predict(final)[0])\n",
    "\n",
    "    return result"
   ]
  },
  {
   "cell_type": "markdown",
   "id": "1e6d949d-1f8c-45f7-9575-70c928f3f23f",
   "metadata": {},
   "source": [
    "## Try out images by path here"
   ]
  },
  {
   "cell_type": "code",
   "execution_count": 6,
   "id": "c7569c87-d97f-4b90-bed4-2a4d83de6381",
   "metadata": {},
   "outputs": [
    {
     "name": "stdout",
     "output_type": "stream",
     "text": [
      "B\n"
     ]
    },
    {
     "data": {
      "image/png": "[encoded data removed]",
      "text/plain": [
       "<Figure size 640x480 with 1 Axes>"
      ]
     },
     "metadata": {},
     "output_type": "display_data"
    }
   ],
   "source": [
    "print(classify_image(None, \"./trainingData/B/bTest3.jpg\"))\n",
    "# print(classify_image(None, \"./test_images/virat3.jpg\")) # Inconsistent result could be due to https://github.com/scikit-learn/scikit-learn/issues/13211"
   ]
  }
 ],
 "metadata": {
  "kernelspec": {
   "display_name": "Python 3 (ipykernel)",
   "language": "python",
   "name": "python3"
  },
  "language_info": {
   "codemirror_mode": {
    "name": "ipython",
    "version": 3
   },
   "file_extension": ".py",
   "mimetype": "text/x-python",
   "name": "python",
   "nbconvert_exporter": "python",
   "pygments_lexer": "ipython3",
   "version": "3.12.3"
  }
 },
 "nbformat": 4,
 "nbformat_minor": 5
}
